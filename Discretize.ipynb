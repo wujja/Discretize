{
 "cells": [
  {
   "cell_type": "code",
   "execution_count": 273,
   "metadata": {},
   "outputs": [
    {
     "data": {
      "text/html": [
       "<div>\n",
       "<style scoped>\n",
       "    .dataframe tbody tr th:only-of-type {\n",
       "        vertical-align: middle;\n",
       "    }\n",
       "\n",
       "    .dataframe tbody tr th {\n",
       "        vertical-align: top;\n",
       "    }\n",
       "\n",
       "    .dataframe thead th {\n",
       "        text-align: right;\n",
       "    }\n",
       "</style>\n",
       "<table border=\"1\" class=\"dataframe\">\n",
       "  <thead>\n",
       "    <tr style=\"text-align: right;\">\n",
       "      <th></th>\n",
       "      <th>A</th>\n",
       "      <th>B</th>\n",
       "      <th>D</th>\n",
       "    </tr>\n",
       "  </thead>\n",
       "  <tbody>\n",
       "    <tr>\n",
       "      <th>0</th>\n",
       "      <td>1</td>\n",
       "      <td>3</td>\n",
       "      <td>2</td>\n",
       "    </tr>\n",
       "    <tr>\n",
       "      <th>1</th>\n",
       "      <td>1</td>\n",
       "      <td>5</td>\n",
       "      <td>2</td>\n",
       "    </tr>\n",
       "    <tr>\n",
       "      <th>2</th>\n",
       "      <td>5</td>\n",
       "      <td>3</td>\n",
       "      <td>2</td>\n",
       "    </tr>\n",
       "    <tr>\n",
       "      <th>3</th>\n",
       "      <td>3</td>\n",
       "      <td>8</td>\n",
       "      <td>1</td>\n",
       "    </tr>\n",
       "    <tr>\n",
       "      <th>4</th>\n",
       "      <td>8</td>\n",
       "      <td>5</td>\n",
       "      <td>1</td>\n",
       "    </tr>\n",
       "    <tr>\n",
       "      <th>5</th>\n",
       "      <td>3</td>\n",
       "      <td>5</td>\n",
       "      <td>2</td>\n",
       "    </tr>\n",
       "    <tr>\n",
       "      <th>6</th>\n",
       "      <td>5</td>\n",
       "      <td>8</td>\n",
       "      <td>1</td>\n",
       "    </tr>\n",
       "    <tr>\n",
       "      <th>7</th>\n",
       "      <td>8</td>\n",
       "      <td>8</td>\n",
       "      <td>1</td>\n",
       "    </tr>\n",
       "  </tbody>\n",
       "</table>\n",
       "</div>"
      ],
      "text/plain": [
       "   A  B  D\n",
       "0  1  3  2\n",
       "1  1  5  2\n",
       "2  5  3  2\n",
       "3  3  8  1\n",
       "4  8  5  1\n",
       "5  3  5  2\n",
       "6  5  8  1\n",
       "7  8  8  1"
      ]
     },
     "execution_count": 273,
     "metadata": {},
     "output_type": "execute_result"
    }
   ],
   "source": [
    "import pandas as pd \n",
    "import itertools\n",
    "df = pd.read_csv('Dis2.csv')\n",
    "df"
   ]
  },
  {
   "cell_type": "code",
   "execution_count": 274,
   "metadata": {},
   "outputs": [
    {
     "data": {
      "text/plain": [
       "[(0, 3),\n",
       " (0, 4),\n",
       " (0, 6),\n",
       " (0, 7),\n",
       " (1, 3),\n",
       " (1, 4),\n",
       " (1, 6),\n",
       " (1, 7),\n",
       " (2, 3),\n",
       " (2, 4),\n",
       " (2, 6),\n",
       " (2, 7),\n",
       " (3, 5),\n",
       " (4, 5),\n",
       " (5, 6),\n",
       " (5, 7)]"
      ]
     },
     "execution_count": 274,
     "metadata": {},
     "output_type": "execute_result"
    }
   ],
   "source": [
    "c = list(itertools.combinations(df.index,2))\n",
    "unique = list(set(c))\n",
    "unique.sort()\n",
    "\n",
    "new_unique = []\n",
    "for two_col in unique:\n",
    "    if(df['D'].iloc[two_col[0]] !=  df['D'].iloc[two_col[1]]):\n",
    "        new_unique.append(two_col)\n",
    "\n",
    "new_unique\n"
   ]
  },
  {
   "cell_type": "code",
   "execution_count": 275,
   "metadata": {},
   "outputs": [
    {
     "data": {
      "text/html": [
       "<div>\n",
       "<style scoped>\n",
       "    .dataframe tbody tr th:only-of-type {\n",
       "        vertical-align: middle;\n",
       "    }\n",
       "\n",
       "    .dataframe tbody tr th {\n",
       "        vertical-align: top;\n",
       "    }\n",
       "\n",
       "    .dataframe thead th {\n",
       "        text-align: right;\n",
       "    }\n",
       "</style>\n",
       "<table border=\"1\" class=\"dataframe\">\n",
       "  <thead>\n",
       "    <tr style=\"text-align: right;\">\n",
       "      <th></th>\n",
       "      <th>A</th>\n",
       "      <th>B</th>\n",
       "    </tr>\n",
       "  </thead>\n",
       "  <tbody>\n",
       "    <tr>\n",
       "      <th>0</th>\n",
       "      <td>1</td>\n",
       "      <td>3</td>\n",
       "    </tr>\n",
       "    <tr>\n",
       "      <th>1</th>\n",
       "      <td>1</td>\n",
       "      <td>5</td>\n",
       "    </tr>\n",
       "    <tr>\n",
       "      <th>2</th>\n",
       "      <td>5</td>\n",
       "      <td>3</td>\n",
       "    </tr>\n",
       "    <tr>\n",
       "      <th>3</th>\n",
       "      <td>3</td>\n",
       "      <td>8</td>\n",
       "    </tr>\n",
       "    <tr>\n",
       "      <th>4</th>\n",
       "      <td>8</td>\n",
       "      <td>5</td>\n",
       "    </tr>\n",
       "    <tr>\n",
       "      <th>5</th>\n",
       "      <td>3</td>\n",
       "      <td>5</td>\n",
       "    </tr>\n",
       "    <tr>\n",
       "      <th>6</th>\n",
       "      <td>5</td>\n",
       "      <td>8</td>\n",
       "    </tr>\n",
       "    <tr>\n",
       "      <th>7</th>\n",
       "      <td>8</td>\n",
       "      <td>8</td>\n",
       "    </tr>\n",
       "  </tbody>\n",
       "</table>\n",
       "</div>"
      ],
      "text/plain": [
       "   A  B\n",
       "0  1  3\n",
       "1  1  5\n",
       "2  5  3\n",
       "3  3  8\n",
       "4  8  5\n",
       "5  3  5\n",
       "6  5  8\n",
       "7  8  8"
      ]
     },
     "execution_count": 275,
     "metadata": {},
     "output_type": "execute_result"
    }
   ],
   "source": [
    "df_without_d = df.copy\n",
    "df_without_d = df.drop(columns='D')\n",
    "df_without_d"
   ]
  },
  {
   "cell_type": "code",
   "execution_count": 276,
   "metadata": {},
   "outputs": [
    {
     "data": {
      "text/plain": [
       "{'A': [1, 3, 5, 8], 'B': [3, 5, 8]}"
      ]
     },
     "execution_count": 276,
     "metadata": {},
     "output_type": "execute_result"
    }
   ],
   "source": [
    "kind_of_value = {}\n",
    "for i in df_without_d:\n",
    "    kind_of_value[i] = list(set(df_without_d[i]))\n",
    "    kind_of_value[i].sort()\n",
    "kind_of_value"
   ]
  },
  {
   "cell_type": "code",
   "execution_count": 277,
   "metadata": {},
   "outputs": [
    {
     "data": {
      "text/plain": [
       "{'A': {'p1': [1, 3], 'p2': [3, 5], 'p3': [5, 8]},\n",
       " 'B': {'q1': [3, 5], 'q2': [5, 8]}}"
      ]
     },
     "execution_count": 277,
     "metadata": {},
     "output_type": "execute_result"
    }
   ],
   "source": [
    "line_name = ['p','q','r','t']\n",
    "count = 0\n",
    "kind_of_line_whole = {}\n",
    "\n",
    "for key, value in kind_of_value.items():\n",
    "    i = 1\n",
    "    kind_of_line = {}\n",
    "    for number in value:\n",
    "        if len(kind_of_value[key]) > i:\n",
    "            kind_of_line[f'{line_name[count]}{i}'] = [kind_of_value[key][i-1],kind_of_value[key][i]]\n",
    "            i = i + 1\n",
    "    count = count + 1\n",
    "    kind_of_line_whole[key] = kind_of_line\n",
    "kind_of_line_whole\n",
    "    "
   ]
  },
  {
   "cell_type": "code",
   "execution_count": 278,
   "metadata": {},
   "outputs": [],
   "source": [
    "def compareX(x1,x2):\n",
    "    answer = f'f({x1 + 1},{x2 + 1}) = '\n",
    "    for col in df_without_d:\n",
    "        values_of_one_col = [df_without_d[col].iloc[x1],df_without_d[col].iloc[x2]]\n",
    "        values_of_one_col.sort()\n",
    "        if(values_of_one_col[0] != values_of_one_col[1]):\n",
    "            for key, value in kind_of_line_whole[col].items():\n",
    "                if(values_of_one_col[0] == value[0] and values_of_one_col[1] == value[1]):\n",
    "                    answer = f'{answer} {key}'\n",
    "                    break\n",
    "                elif(values_of_one_col[0] <= value[0] and values_of_one_col[1] == value[1]):\n",
    "                    answer = f'{answer} {key}'\n",
    "                    break\n",
    "                elif(values_of_one_col[0] <= value[0]):\n",
    "                    answer = f'{answer} {key}'\n",
    "        df_without_d[col].iloc[x1]\n",
    "    print(answer)\n"
   ]
  },
  {
   "cell_type": "code",
   "execution_count": 279,
   "metadata": {},
   "outputs": [
    {
     "name": "stdout",
     "output_type": "stream",
     "text": [
      "f(1,4) =  p1 q1 q2\n",
      "f(1,5) =  p1 p2 p3 q1\n",
      "f(1,7) =  p1 p2 q1 q2\n",
      "f(1,8) =  p1 p2 p3 q1 q2\n",
      "f(2,4) =  p1 q2\n",
      "f(2,5) =  p1 p2 p3\n",
      "f(2,7) =  p1 p2 q2\n",
      "f(2,8) =  p1 p2 p3 q2\n",
      "f(3,4) =  p2 q1 q2\n",
      "f(3,5) =  p3 q1\n",
      "f(3,7) =  q1 q2\n",
      "f(3,8) =  p3 q1 q2\n",
      "f(4,6) =  q2\n",
      "f(5,6) =  p2 p3\n",
      "f(6,7) =  p2 q2\n",
      "f(6,8) =  p2 p3 q2\n"
     ]
    }
   ],
   "source": [
    "for i in new_unique:\n",
    "    compareX(i[0],i[1])"
   ]
  }
 ],
 "metadata": {
  "kernelspec": {
   "display_name": "Python 3.10.2 64-bit",
   "language": "python",
   "name": "python3"
  },
  "language_info": {
   "codemirror_mode": {
    "name": "ipython",
    "version": 3
   },
   "file_extension": ".py",
   "mimetype": "text/x-python",
   "name": "python",
   "nbconvert_exporter": "python",
   "pygments_lexer": "ipython3",
   "version": "3.10.2"
  },
  "orig_nbformat": 4,
  "vscode": {
   "interpreter": {
    "hash": "e6a6e11e4da8db2e5c33e964a64b7ad327a3cd8023fd813c59f97dd957741255"
   }
  }
 },
 "nbformat": 4,
 "nbformat_minor": 2
}
